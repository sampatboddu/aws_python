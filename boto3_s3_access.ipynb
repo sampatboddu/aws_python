{
 "cells": [
  {
   "cell_type": "code",
   "execution_count": 1,
   "metadata": {},
   "outputs": [],
   "source": [
    "import boto3"
   ]
  },
  {
   "cell_type": "code",
   "execution_count": 2,
   "metadata": {},
   "outputs": [],
   "source": [
    "session = boto3.Session(profile_name=\"pythonAutomation\")"
   ]
  },
  {
   "cell_type": "code",
   "execution_count": 3,
   "metadata": {},
   "outputs": [],
   "source": [
    "s3 = session.resource('s3')"
   ]
  },
  {
   "cell_type": "code",
   "execution_count": 7,
   "metadata": {},
   "outputs": [
    {
     "name": "stdout",
     "output_type": "stream",
     "text": [
      "s3.Bucket(name='aws-glue-scripts-313540118368-us-east-2')\n",
      "s3.Bucket(name='aws-glue-temporary-313540118368-us-east-2')\n",
      "s3.Bucket(name='aws-python-project1-bucket')\n",
      "s3.Bucket(name='glue-bucket-data')\n",
      "s3.Bucket(name='my-aws-glue-spark-logs')\n",
      "s3.Bucket(name='my-data-catalog-bucket')\n",
      "s3.Bucket(name='sam-aws-airflow-sagemaker')\n",
      "s3.Bucket(name='sam-aws-sagemaker-airflow-1')\n",
      "s3.Bucket(name='samawsbigdatademo')\n",
      "s3.Bucket(name='samawsbigdatademologs')\n",
      "s3.Bucket(name='samp-test-bucket')\n"
     ]
    }
   ],
   "source": [
    "for bucket in s3.buckets.all():\n",
    "    print(bucket)"
   ]
  },
  {
   "cell_type": "code",
   "execution_count": 6,
   "metadata": {},
   "outputs": [],
   "source": [
    "new_bucket = s3.create_bucket(Bucket='aws-python-project1-bucket',\n",
    "                              CreateBucketConfiguration={\n",
    "                                  'LocationConstraint': 'us-east-2'\n",
    "                              }\n",
    "                             )"
   ]
  },
  {
   "cell_type": "code",
   "execution_count": null,
   "metadata": {},
   "outputs": [],
   "source": []
  }
 ],
 "metadata": {
  "kernelspec": {
   "display_name": "Python 3",
   "language": "python",
   "name": "python3"
  },
  "language_info": {
   "codemirror_mode": {
    "name": "ipython",
    "version": 3
   },
   "file_extension": ".py",
   "mimetype": "text/x-python",
   "name": "python",
   "nbconvert_exporter": "python",
   "pygments_lexer": "ipython3",
   "version": "3.7.7"
  }
 },
 "nbformat": 4,
 "nbformat_minor": 4
}
